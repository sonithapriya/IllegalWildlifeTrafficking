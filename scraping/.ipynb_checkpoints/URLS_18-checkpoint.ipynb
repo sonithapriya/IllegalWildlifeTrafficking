{
 "cells": [
  {
   "cell_type": "code",
   "execution_count": 1,
   "id": "5634b2d0",
   "metadata": {},
   "outputs": [],
   "source": [
    "# import packages\n",
    "from selenium import webdriver\n",
    "from selenium.webdriver.common.keys import Keys\n",
    "from selenium.common.exceptions import StaleElementReferenceException\n",
    "import time \n",
    "import os\n",
    "import json\n",
    "import urllib\n"
   ]
  },
  {
   "cell_type": "code",
   "execution_count": 2,
   "id": "0a0ab82d",
   "metadata": {},
   "outputs": [],
   "source": [
    "# Some urls are blocked from untrusted sites, the below code make python environment to trust every site\n",
    "import os, ssl\n",
    "if (not os.environ.get('PYTHONHTTPSVERIFY', '') and\n",
    "getattr(ssl, '_create_unverified_context', None)):\n",
    "    ssl._create_default_https_context = ssl._create_unverified_context"
   ]
  },
  {
   "cell_type": "code",
   "execution_count": 3,
   "id": "b39d6e88",
   "metadata": {},
   "outputs": [],
   "source": [
    "def download_images():\n",
    "    \n",
    "    f = open('site_urls.txt','r')\n",
    "    search_url = f.readlines()[18]\n",
    "    print(search_url)\n",
    "   \n",
    "    # path of chorme drive to run selenium\n",
    "    path = r'chromedriver'\n",
    "    \n",
    "    driver = webdriver.Chrome(path)\n",
    "    \n",
    "    k = open('wildlife keywords.txt','r')\n",
    "    kw = k.readlines()\n",
    "    \n",
    "    for i in range(0,len(kw)):\n",
    "        print(i)\n",
    "        keyW = kw[i]\n",
    "        \n",
    "        driver.get(search_url)\n",
    "\n",
    "        time.sleep(2)\n",
    "        \n",
    "        # search text box\n",
    "        box = driver.find_element_by_xpath('//*[@id=\"header-search-left\"]/input[1]')  \n",
    "        box.clear()\n",
    "        \n",
    "        #sending the keyword\n",
    "        box.send_keys(keyW)\n",
    "        time.sleep(2)\n",
    "        \n",
    "        # try block if there are no ad results for the keyword it will continue with next keyword\n",
    "        try:\n",
    "            # collecting links of ad results\n",
    "            links = driver.find_element_by_xpath('//*[@id=\"items-icon\"]')\n",
    "            sub_lnks = links.find_elements_by_tag_name('a')\n",
    "\n",
    "            lnks_lst = []\n",
    "\n",
    "            for lnk in sub_lnks:\n",
    "                lnks_lst.append(lnk.get_attribute('href'))\n",
    "            print(lnks_lst[0:3])\n",
    "\n",
    "            # making a directory like URL+Keyword_number , example 18_0 , 18_1,...\n",
    "            if lnks_lst:\n",
    "                if not os.path.exists(str(18)+'_'+str(i)):\n",
    "                    os.mkdir(str(18)+'_'+str(i))\n",
    "            \n",
    "            #  iterating through ads results \n",
    "            for j in range(0,2):\n",
    "                driver.get(lnks_lst[j])\n",
    "                print(lnks_lst[j])\n",
    "                time.sleep(2)\n",
    "                # Title capturing \n",
    "                sub_txt = driver.find_element_by_xpath('//*[@id=\"item-title\"]/h1').text\n",
    "                #making directory inside the above created directory like 0 means first ad, 1 for second ad....\n",
    "                if not os.path.exists(str(18)+'_'+str(i) +'/'+ str(j)):\n",
    "                    os.mkdir(str(18)+'_'+str(i) +'/'+ str(j))\n",
    "                # making dictionary\n",
    "                details = {\n",
    "                    'name' : sub_txt,\n",
    "                    'price' : driver.find_element_by_xpath('//*[@id=\"item-price-digital\"]').text,\n",
    "                    'location': driver.find_element_by_xpath('//*[@id=\"item-seller\"]').get_attribute(\"innerText\"),\n",
    "                    'details': None,\n",
    "                    'description' : None,\n",
    "                    'url' : lnks_lst[j]\n",
    "                }\n",
    "                # writing the dictionary to text file like 0.txt for first ad ....\n",
    "                with open(str(18)+'_'+str(i) +'/'+ str(j) + '/' + str(j) + '.txt', 'w') as tfile:\n",
    "                     tfile.write(json.dumps(details))\n",
    "                \n",
    "                # collecting image urls\n",
    "                image_lst = []\n",
    "                elem1 = driver.find_element_by_xpath('//*[@id=\"item-picture-additional\"]/div')\n",
    "                sub = elem1.find_elements_by_tag_name('img')\n",
    "                for k,l in enumerate(sub):\n",
    "                    src = l.get_attribute('src')\n",
    "                    src = src.replace('thumb','')\n",
    "                    image_lst.append(src)\n",
    "                    print(src)\n",
    "                    # collecting images and saving it inside the above created directory like 0_0.jpg for first ad first image\n",
    "                    # 0_1.jpg for first ad second image ...\n",
    "                    if src != None:\n",
    "                        urllib.request.urlretrieve(str(src), os.path.join(str(18)+'_'+str(i), str(j), str(j)+'_'+str(k)+'.jpg'))\n",
    "                # writing image urls to text file like 0_imgs.txt for first ad ....\n",
    "                with open(str(18)+'_'+str(i) +'/'+ str(j) + '/' + str(j) + '_imgs.txt', 'w') as tfile:\n",
    "                     tfile.write(json.dumps(image_lst)) \n",
    "        except:\n",
    "            continue\n",
    "            \n",
    "    driver.close()\n",
    "    "
   ]
  },
  {
   "cell_type": "code",
   "execution_count": 4,
   "id": "a4b5a062",
   "metadata": {
    "scrolled": false
   },
   "outputs": [
    {
     "name": "stdout",
     "output_type": "stream",
     "text": [
      "http://www.trocadero.com/directory/search.php?keyword=[KW]&archinsearch=yes&click_to_search_now_x=0&click_to_search_now_y=0&category=ALL%20ITEMS&period=No%20Selection&sortfield=calculatedPrice&sortdir=SORT_DESC&start=0&l=60&view=icon\n",
      "\n",
      "0\n",
      "['https://www.trocadero.com/stores/lenfantgallery/items/1464015/Pair-Faux-Alligator-Waste-Paper-Baskets-11-10', 'https://www.trocadero.com/stores/lenfantgallery/', 'https://www.trocadero.com/stores/lenfantgallery/items/1464015/Pair-Faux-Alligator-Waste-Paper-Baskets-11-10']\n",
      "https://www.trocadero.com/stores/lenfantgallery/items/1464015/Pair-Faux-Alligator-Waste-Paper-Baskets-11-10\n",
      "https://images.trocadero.com/stores/lenfantgallery/items/1464015/picture1.jpg\n",
      "https://www.trocadero.com/stores/lenfantgallery/\n",
      "1\n"
     ]
    }
   ],
   "source": [
    "def main():\n",
    "    download_images()\n",
    "    \n",
    "if __name__ == \"__main__\":\n",
    "    main()"
   ]
  },
  {
   "cell_type": "code",
   "execution_count": null,
   "id": "1d33c612",
   "metadata": {},
   "outputs": [],
   "source": []
  }
 ],
 "metadata": {
  "kernelspec": {
   "display_name": "Python 3",
   "language": "python",
   "name": "python3"
  },
  "language_info": {
   "codemirror_mode": {
    "name": "ipython",
    "version": 3
   },
   "file_extension": ".py",
   "mimetype": "text/x-python",
   "name": "python",
   "nbconvert_exporter": "python",
   "pygments_lexer": "ipython3",
   "version": "3.6.6"
  }
 },
 "nbformat": 4,
 "nbformat_minor": 5
}
